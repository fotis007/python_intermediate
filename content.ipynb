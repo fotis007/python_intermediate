{
 "cells": [
  {
   "cell_type": "markdown",
   "metadata": {
    "toc": "true"
   },
   "source": [
    "# Table of Contents\n",
    " <p>"
   ]
  },
  {
   "cell_type": "markdown",
   "metadata": {},
   "source": [
    "[1. Sitzung](/notebooks/Python_2_1.ipynb) Wiederholung Basiswissen Python\n",
    "\n",
    "[2. Sitzung](/notebooks/Python_2_2.ipynb) Funktionales Programmieren 1: Iteratoren, List Comprehension, map und filter\n",
    "\n",
    "[3. Sitzung](/notebooks/Python_2_3.ipynb) Programme strukturieren, Funktionales Programmieren 2: Generatoren\n",
    "\n",
    "[4. Sitzung](/notebooks/Python_2_4.ipynb) Graphen\n",
    "\n",
    "[5. Sitzung](/notebooks/Python_2_5.ipynb) Datenanalyse 1: numpy\n",
    "\n",
    "[6. Sitzung](/notebooks/Python_2_6.ipynb) Datenanalyse 2: pandas\n",
    "\n",
    "[7. Sitzung](/notebooks/Python_2_7.ipynb) Datenanalyse 3: Visualisierung mit Matplotlib und Seaborn\n",
    "\n",
    "[8. Sitzung](/notebooks/Python_2_8.ipynb) Datenanalyse 4: Maschinelles Lernen\n",
    "\n",
    "[9. Sitzung](/notebooks/Python_2_9.ipynb) Arbeiten mit XML: lxml\n",
    "\n"
   ]
  },
  {
   "cell_type": "code",
   "execution_count": null,
   "metadata": {
    "collapsed": true
   },
   "outputs": [],
   "source": []
  }
 ],
 "metadata": {
  "kernelspec": {
   "display_name": "Python 3",
   "language": "python",
   "name": "python3"
  },
  "language_info": {
   "codemirror_mode": {
    "name": "ipython",
    "version": 3
   },
   "file_extension": ".py",
   "mimetype": "text/x-python",
   "name": "python",
   "nbconvert_exporter": "python",
   "pygments_lexer": "ipython3",
   "version": "3.6.1"
  },
  "toc": {
   "colors": {
    "hover_highlight": "#DAA520",
    "navigate_num": "#000000",
    "navigate_text": "#333333",
    "running_highlight": "#FF0000",
    "selected_highlight": "#FFD700",
    "sidebar_border": "#EEEEEE",
    "wrapper_background": "#FFFFFF"
   },
   "moveMenuLeft": true,
   "nav_menu": {
    "height": "12px",
    "width": "252px"
   },
   "navigate_menu": true,
   "number_sections": true,
   "sideBar": true,
   "threshold": 4,
   "toc_cell": true,
   "toc_section_display": "block",
   "toc_window_display": false,
   "widenNotebook": false
  }
 },
 "nbformat": 4,
 "nbformat_minor": 2
}
