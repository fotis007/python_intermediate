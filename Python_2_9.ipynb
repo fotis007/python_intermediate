{
 "cells": [
  {
   "cell_type": "markdown",
   "metadata": {
    "toc": "true"
   },
   "source": [
    "# Table of Contents\n",
    " <p><div class=\"lev1 toc-item\"><a href=\"#Arbeiten-mit-XML:-lxml\" data-toc-modified-id=\"Arbeiten-mit-XML:-lxml-1\"><span class=\"toc-item-num\">1&nbsp;&nbsp;</span>Arbeiten mit XML: lxml</a></div><div class=\"lev3 toc-item\"><a href=\"#Opening-a-file\" data-toc-modified-id=\"Opening-a-file-101\"><span class=\"toc-item-num\">1.0.1&nbsp;&nbsp;</span>Opening a file</a></div><div class=\"lev3 toc-item\"><a href=\"#Using-Xpath\" data-toc-modified-id=\"Using-Xpath-102\"><span class=\"toc-item-num\">1.0.2&nbsp;&nbsp;</span>Using Xpath</a></div><div class=\"lev3 toc-item\"><a href=\"#xpath-with-namespaces\" data-toc-modified-id=\"xpath-with-namespaces-103\"><span class=\"toc-item-num\">1.0.3&nbsp;&nbsp;</span>xpath with namespaces</a></div>"
   ]
  },
  {
   "cell_type": "markdown",
   "metadata": {},
   "source": [
    "# Arbeiten mit XML: lxml"
   ]
  },
  {
   "cell_type": "markdown",
   "metadata": {},
   "source": [
    "Mit der Bibliothek lxml können wir xml-Dateien lesen, schreiben und auch xpath-Ausdrücke auswerten sowie xslt-Transformationen ausführen. "
   ]
  },
  {
   "cell_type": "code",
   "execution_count": 2,
   "metadata": {
    "collapsed": true
   },
   "outputs": [],
   "source": [
    "from lxml import etree"
   ]
  },
  {
   "cell_type": "markdown",
   "metadata": {},
   "source": [
    "### Opening a file"
   ]
  },
  {
   "cell_type": "code",
   "execution_count": 66,
   "metadata": {
    "collapsed": false
   },
   "outputs": [
    {
     "data": {
      "text/plain": [
       "b'<faq type=\"test\">\\n    <title>This is a litte faq</title>\\n    <author>Ms. Unknown and Mr. Underappreciated</author>\\n    <version>0.1</version>\\n    <date>2017</date>\\n    <entry>\\n        <q>What is an faq?</q>\\n        <a><p>It is an acronym and stands for Frequently Asked Questions.</p></a>\\n    </entry>\\n    <entry>\\n        <q>Who wrote the first faq?</q>\\n        <a><p>According to Wikipedia, \"The acronym FAQ was developed between 1982 and 1985 by Eugene Miya of NASA for the SPACE mailing list.\"<link url=\"https://en.wikipedia.org/wiki/FAQ\"/></p></a>\\n    </entry>\\n</faq>'"
      ]
     },
     "execution_count": 66,
     "metadata": {},
     "output_type": "execute_result"
    }
   ],
   "source": [
    "f = open(\"faq.xml\", encoding=\"utf-8\")\n",
    "tree = etree.parse(f)\n",
    "etree.tostring(tree)"
   ]
  },
  {
   "cell_type": "markdown",
   "metadata": {},
   "source": [
    "### Using Xpath"
   ]
  },
  {
   "cell_type": "markdown",
   "metadata": {},
   "source": [
    "Wenn wir einen Xpath-Ausdruck verwenden, dann erhalten wir eine Liste als Antwortmenge. Wenn nichts gefunden wurde, dann ist die Liste leer."
   ]
  },
  {
   "cell_type": "code",
   "execution_count": 67,
   "metadata": {
    "collapsed": false
   },
   "outputs": [
    {
     "data": {
      "text/plain": [
       "1"
      ]
     },
     "execution_count": 67,
     "metadata": {},
     "output_type": "execute_result"
    }
   ],
   "source": [
    "a = tree.xpath(\"//version\")\n",
    "len(a)"
   ]
  },
  {
   "cell_type": "markdown",
   "metadata": {},
   "source": [
    "Wenn wir Informationen zu den einzelnen Elementen in der Liste haben wollen, dann können wir entsprechende Klassenattribute verwenden. Wichtig sind hier 'tag', 'text' und 'attrib'."
   ]
  },
  {
   "cell_type": "code",
   "execution_count": 68,
   "metadata": {
    "collapsed": false
   },
   "outputs": [
    {
     "data": {
      "text/plain": [
       "'version'"
      ]
     },
     "execution_count": 68,
     "metadata": {},
     "output_type": "execute_result"
    }
   ],
   "source": [
    "a[0].tag"
   ]
  },
  {
   "cell_type": "code",
   "execution_count": 69,
   "metadata": {
    "collapsed": false
   },
   "outputs": [
    {
     "data": {
      "text/plain": [
       "'0.1'"
      ]
     },
     "execution_count": 69,
     "metadata": {},
     "output_type": "execute_result"
    }
   ],
   "source": [
    "a[0].text"
   ]
  },
  {
   "cell_type": "code",
   "execution_count": 70,
   "metadata": {
    "collapsed": false
   },
   "outputs": [
    {
     "data": {
      "text/plain": [
       "2"
      ]
     },
     "execution_count": 70,
     "metadata": {},
     "output_type": "execute_result"
    }
   ],
   "source": [
    "b = tree.xpath(\"//q\")\n",
    "len(b)"
   ]
  },
  {
   "cell_type": "code",
   "execution_count": 71,
   "metadata": {
    "collapsed": false
   },
   "outputs": [
    {
     "name": "stdout",
     "output_type": "stream",
     "text": [
      "What is an faq?\n",
      "Who wrote the first faq?\n"
     ]
    }
   ],
   "source": [
    "for i in b:\n",
    "    print(i.text)"
   ]
  },
  {
   "cell_type": "markdown",
   "metadata": {},
   "source": [
    "Attribute werden als dictionary gespeichert."
   ]
  },
  {
   "cell_type": "code",
   "execution_count": 75,
   "metadata": {
    "collapsed": false
   },
   "outputs": [
    {
     "name": "stdout",
     "output_type": "stream",
     "text": [
      "faq\n",
      "\n",
      "    \n",
      "{'type': 'test'}\n"
     ]
    }
   ],
   "source": [
    "c = tree.xpath(\"//faq\")\n",
    "print(c[0].tag)\n",
    "print(c[0].text)\n",
    "print(c[0].attrib)"
   ]
  },
  {
   "cell_type": "markdown",
   "metadata": {},
   "source": [
    "Wenn wir den Namen des Attributes kennen, dann können wir eine einfachere Schreibweise verwenden:"
   ]
  },
  {
   "cell_type": "code",
   "execution_count": 76,
   "metadata": {
    "collapsed": false
   },
   "outputs": [
    {
     "data": {
      "text/plain": [
       "'test'"
      ]
     },
     "execution_count": 76,
     "metadata": {},
     "output_type": "execute_result"
    }
   ],
   "source": [
    "c[0].get(\"type\")"
   ]
  },
  {
   "cell_type": "markdown",
   "metadata": {},
   "source": [
    "### xpath with namespaces\n"
   ]
  },
  {
   "cell_type": "code",
   "execution_count": 32,
   "metadata": {
    "collapsed": false
   },
   "outputs": [],
   "source": [
    "import io\n",
    "f = io.StringIO(\"\"\"\n",
    "<?xml-model href=\"http://www.tei-c.org/release/xml/tei/custom/schema/relaxng/tei_all.rng\" type=\"application/xml\"\n",
    "\tschematypens=\"http://purl.oclc.org/dsdl/schematron\"?>\n",
    "<TEI xmlns=\"http://www.tei-c.org/ns/1.0\">\n",
    "   <teiHeader>\n",
    "      <!-- Angabe zur digitalen Version. -->\n",
    "      <fileDesc>\n",
    "         <titleStmt>\n",
    "            <title>Herr von Sacken - digitalisiertes Novellenschatz-Korpus</title>\n",
    "            <author>\n",
    "               <persName>Willibald Alexis</persName>\n",
    "               <birth>1798-06-29</birth> <death>1871-12-16</death>\n",
    "               <addName type=\"realName\">Georg Wilhelm Heinrich Härig</addName>\n",
    "            </author>\n",
    "            <funder>Digital Humanities Cooperation</funder>\n",
    "            <principal>Prof. Dr. Thomas Weitin</principal>\n",
    "         </titleStmt>\n",
    "     </fileDesc>\n",
    "     <sourceDesc>\n",
    "        <biblFull>\n",
    "           <titleStmt>\n",
    "              <title>Herr von Sacken</title>\n",
    "             <author>\n",
    "                <persName sex=\"1\">Willibald Alexis</persName>\n",
    "                 <birth>1798-06-29</birth> <death>1871-12-16</death>\n",
    "                 <addName type=\"realName\">Georg Wilhelm Heinrich Härig</addName>\n",
    "              </author>\n",
    "           </titleStmt>\n",
    "         </biblFull>\n",
    "    </sourceDesc>\n",
    "  </teiHeader>\n",
    "</TEI>\n",
    "\"\"\")\n",
    "tree = etree.parse(f)\n"
   ]
  },
  {
   "cell_type": "markdown",
   "metadata": {},
   "source": [
    "Wenn wir bei einem xml-Baum mit namespaces xpath verwenden, müssen wir das beim xpath-Ausdruck berücksichtigen, sonst erhalten wir keinen Fehler, sondern eine leere Antwortmenge. "
   ]
  },
  {
   "cell_type": "code",
   "execution_count": 33,
   "metadata": {
    "collapsed": false
   },
   "outputs": [
    {
     "data": {
      "text/plain": [
       "0"
      ]
     },
     "execution_count": 33,
     "metadata": {},
     "output_type": "execute_result"
    }
   ],
   "source": [
    "a = tree.xpath(\"//title\")\n",
    "len(a)"
   ]
  },
  {
   "cell_type": "markdown",
   "metadata": {},
   "source": [
    "Hier nun mit namespace:"
   ]
  },
  {
   "cell_type": "code",
   "execution_count": 38,
   "metadata": {
    "collapsed": false
   },
   "outputs": [
    {
     "data": {
      "text/plain": [
       "2"
      ]
     },
     "execution_count": 38,
     "metadata": {},
     "output_type": "execute_result"
    }
   ],
   "source": [
    "a = tree.xpath(\"//tei:title\", namespaces={'tei': 'http://www.tei-c.org/ns/1.0'})\n",
    "len(a)"
   ]
  },
  {
   "cell_type": "code",
   "execution_count": 39,
   "metadata": {
    "collapsed": false
   },
   "outputs": [
    {
     "data": {
      "text/plain": [
       "'Herr von Sacken'"
      ]
     },
     "execution_count": 39,
     "metadata": {},
     "output_type": "execute_result"
    }
   ],
   "source": [
    "a[1].text"
   ]
  },
  {
   "cell_type": "code",
   "execution_count": 40,
   "metadata": {
    "collapsed": false
   },
   "outputs": [
    {
     "data": {
      "text/plain": [
       "'Herr von Sacken'"
      ]
     },
     "execution_count": 40,
     "metadata": {},
     "output_type": "execute_result"
    }
   ],
   "source": [
    "a = tree.xpath(\"//tei:sourceDesc//tei:title\", namespaces={'tei': 'http://www.tei-c.org/ns/1.0'})\n",
    "a[0].text"
   ]
  },
  {
   "cell_type": "code",
   "execution_count": 49,
   "metadata": {
    "collapsed": false
   },
   "outputs": [
    {
     "data": {
      "text/plain": [
       "'{http://www.tei-c.org/ns/1.0}persName'"
      ]
     },
     "execution_count": 49,
     "metadata": {},
     "output_type": "execute_result"
    }
   ],
   "source": [
    "a = tree.xpath(\"//tei:sourceDesc//tei:persName\", namespaces={'tei': 'http://www.tei-c.org/ns/1.0'})\n",
    "a[0].text"
   ]
  },
  {
   "cell_type": "code",
   "execution_count": 51,
   "metadata": {
    "collapsed": false
   },
   "outputs": [
    {
     "data": {
      "text/plain": [
       "'{http://www.tei-c.org/ns/1.0}persName'"
      ]
     },
     "execution_count": 51,
     "metadata": {},
     "output_type": "execute_result"
    }
   ],
   "source": [
    "a[0].tag"
   ]
  },
  {
   "cell_type": "code",
   "execution_count": 50,
   "metadata": {
    "collapsed": false
   },
   "outputs": [
    {
     "data": {
      "text/plain": [
       "{'sex': '1'}"
      ]
     },
     "execution_count": 50,
     "metadata": {},
     "output_type": "execute_result"
    }
   ],
   "source": [
    "a[0].attrib"
   ]
  },
  {
   "cell_type": "markdown",
   "metadata": {},
   "source": [
    "I am using lxml to extract segments of an xml file. The first xpath is supposed to extract a series of xml fragment, the second is supposed to extract an element from each fragment. \n",
    "But it seems that the result set is only in superficially a set of fragment, but beneath each segment is still part of the whole tree and the second xpath is evaluated against the whole document instead of the fragments. "
   ]
  },
  {
   "cell_type": "code",
   "execution_count": 3,
   "metadata": {
    "collapsed": false
   },
   "outputs": [
    {
     "data": {
      "text/plain": [
       "[b'<a>\\n             <b>1</b>\\n          </a>\\n          ',\n",
       " b'<a>\\n             <b>2</b>\\n          </a>\\n          ',\n",
       " b'<a>\\n             <b>3</b>\\n          </a>\\n       ']"
      ]
     },
     "execution_count": 3,
     "metadata": {},
     "output_type": "execute_result"
    }
   ],
   "source": [
    "from lxml import etree\n",
    "\n",
    "t = \"\"\"<r><a>\n",
    "             <b>1</b>\n",
    "          </a>\n",
    "          <a>\n",
    "             <b>2</b>\n",
    "          </a>\n",
    "          <a>\n",
    "             <b>3</b>\n",
    "          </a>\n",
    "       </r>\"\"\"\n",
    "tree = etree.fromstring(t)\n",
    "\n",
    "r = tree.xpath(\"//a\")\n",
    "\n",
    "[etree.tostring(e) for e in r]\n",
    "\n"
   ]
  },
  {
   "cell_type": "code",
   "execution_count": 5,
   "metadata": {
    "collapsed": false
   },
   "outputs": [
    {
     "name": "stdout",
     "output_type": "stream",
     "text": [
      "b'<a>\\n             <b>1</b>\\n          </a>\\n          '\n",
      "[<Element a at 0x7c0cbc8>, <Element a at 0x7c0cd48>, <Element a at 0x7c0cd08>]\n",
      "b'<a>\\n             <b>2</b>\\n          </a>\\n          '\n",
      "[<Element a at 0x7c0cbc8>, <Element a at 0x7c0cd48>, <Element a at 0x7c0cd08>]\n",
      "b'<a>\\n             <b>3</b>\\n          </a>\\n       '\n",
      "[<Element a at 0x7c0cbc8>, <Element a at 0x7c0cd48>, <Element a at 0x7c0cd08>]\n"
     ]
    }
   ],
   "source": [
    "for i in r:\n",
    "    print(etree.tostring(i))\n",
    "    print(i.xpath(\"//a\"))\n"
   ]
  },
  {
   "cell_type": "markdown",
   "metadata": {},
   "source": [
    "As the last output shows, lxml treats the fragments differently depending on the context. Conversion to a string results in a fragment. Applying another xpath expression works on the whole document. Any pointers how to handle this? Obviously I could convert the results to strings, build new xml trees and use the xpath expression on them, but that seems more like a workaround than a working solution. (And I know that in this case 2 xpath expressions are not needed, but my real life text is much more complicated.)"
   ]
  },
  {
   "cell_type": "markdown",
   "metadata": {},
   "source": [
    "Solution to this problem is a full stop (more or less)! "
   ]
  },
  {
   "cell_type": "code",
   "execution_count": 7,
   "metadata": {
    "collapsed": false
   },
   "outputs": [
    {
     "name": "stdout",
     "output_type": "stream",
     "text": [
      "b'<a>\\n             <b>1</b>\\n          </a>\\n          '\n",
      "1\n",
      "b'<a>\\n             <b>2</b>\\n          </a>\\n          '\n",
      "2\n",
      "b'<a>\\n             <b>3</b>\\n          </a>\\n       '\n",
      "3\n"
     ]
    }
   ],
   "source": [
    "for i in r:\n",
    "    print(etree.tostring(i))\n",
    "    print(i.xpath(\"./b\")[0].text)\n"
   ]
  },
  {
   "cell_type": "code",
   "execution_count": 2,
   "metadata": {
    "collapsed": false
   },
   "outputs": [
    {
     "name": "stdout",
     "output_type": "stream",
     "text": [
      "\u0007\n"
     ]
    }
   ],
   "source": [
    "print('\\a')"
   ]
  },
  {
   "cell_type": "code",
   "execution_count": 11,
   "metadata": {
    "collapsed": true
   },
   "outputs": [],
   "source": [
    "import winsound"
   ]
  },
  {
   "cell_type": "code",
   "execution_count": 17,
   "metadata": {
    "collapsed": false
   },
   "outputs": [],
   "source": [
    "winsound.Beep(400, 180)\n",
    "winsound.Beep(700, 180)    "
   ]
  },
  {
   "cell_type": "code",
   "execution_count": null,
   "metadata": {
    "collapsed": true
   },
   "outputs": [],
   "source": []
  }
 ],
 "metadata": {
  "kernelspec": {
   "display_name": "Python 3",
   "language": "python",
   "name": "python3"
  },
  "language_info": {
   "codemirror_mode": {
    "name": "ipython",
    "version": 3
   },
   "file_extension": ".py",
   "mimetype": "text/x-python",
   "name": "python",
   "nbconvert_exporter": "python",
   "pygments_lexer": "ipython3",
   "version": "3.6.1"
  },
  "toc": {
   "colors": {
    "hover_highlight": "#DAA520",
    "navigate_num": "#000000",
    "navigate_text": "#333333",
    "running_highlight": "#FF0000",
    "selected_highlight": "#FFD700",
    "sidebar_border": "#EEEEEE",
    "wrapper_background": "#FFFFFF"
   },
   "moveMenuLeft": true,
   "nav_menu": {
    "height": "86px",
    "width": "252px"
   },
   "navigate_menu": true,
   "number_sections": true,
   "sideBar": true,
   "threshold": 4,
   "toc_cell": true,
   "toc_section_display": "block",
   "toc_window_display": false,
   "widenNotebook": false
  }
 },
 "nbformat": 4,
 "nbformat_minor": 0
}
