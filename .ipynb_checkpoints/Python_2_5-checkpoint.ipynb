{
 "cells": [
  {
   "cell_type": "markdown",
   "metadata": {},
   "source": [
    "# Datenanalyse I"
   ]
  },
  {
   "cell_type": "markdown",
   "metadata": {},
   "source": [
    "Python hat u.a. einen sehr guten Ruf als Programmiersprache für die Datenanalyse. Das liegt unter anderem an diesen Bibliotheken:\n",
    "<ul>\n",
    "<li>ipython</li>\n",
    "<li>numpy</li>\n",
    "<li>pandas</li>\n",
    "<li>scipy</li>\n",
    "<li>scikit.learn</li>\n",
    "<li>matlpotlib</li>\n",
    "</ul>"
   ]
  },
  {
   "cell_type": "markdown",
   "metadata": {},
   "source": [
    "Wir werden uns dieser Sitzung vor allem numpy ansehen und in den nachfolgenden Sitzungen die anderen Bibliotheken.  "
   ]
  },
  {
   "cell_type": "markdown",
   "metadata": {},
   "source": [
    "## ipython"
   ]
  },
  {
   "cell_type": "markdown",
   "metadata": {},
   "source": [
    "Sie benutzen ja schon ipython notebooks. ipython ist außerdem eine sehr viel komfortablere shell als idle. Schon allein das tab-completion (erste Buchstaben des Kommandos eingeben, dann auf Tab) ist sehr nützlich. "
   ]
  },
  {
   "cell_type": "markdown",
   "metadata": {},
   "source": [
    "Nützliche Kommandos:<br/>\n",
    "%hist  -  Zeigt die history an, also alle bisher eingegebenen Befehle. Mit %hist -g \"dir\" suchen Sie nach allen Befehlszeilen, die den String dir enthalten. <br/>\n",
    "%cd dir - wechselt ins Directory dir\n"
   ]
  },
  {
   "cell_type": "markdown",
   "metadata": {},
   "source": [
    "## numpy"
   ]
  },
  {
   "cell_type": "markdown",
   "metadata": {},
   "source": [
    "numpy ist ein Modul, dass vor allem eine sehr effiziente und schnelle Datenstruktur zur Verfügung stellt sowie eine ganze Reihe von Funktionen, um die Daten zu bearbeiten oder auszuwerten. Die Datenstruktur, die im Zentrum steht, ist ein Array, also eine Art Liste. In der einfachsten Form können wir Arrays so ähnlich wie Python-Listen verwenden: "
   ]
  },
  {
   "cell_type": "code",
   "execution_count": 1,
   "metadata": {
    "collapsed": false
   },
   "outputs": [
    {
     "data": {
      "text/plain": [
       "array([1, 2, 3, 4, 5])"
      ]
     },
     "execution_count": 1,
     "metadata": {},
     "output_type": "execute_result"
    }
   ],
   "source": [
    "#übliche Art und Weise numpy zu importieren\n",
    "import numpy as np\n",
    "a = np.array([1,2,3,4,5])\n",
    "a"
   ]
  },
  {
   "cell_type": "markdown",
   "metadata": {},
   "source": [
    "Auch bei arrays greifen wir über den Index auf die Elemente zu: "
   ]
  },
  {
   "cell_type": "code",
   "execution_count": 2,
   "metadata": {
    "collapsed": false
   },
   "outputs": [
    {
     "data": {
      "text/plain": [
       "4"
      ]
     },
     "execution_count": 2,
     "metadata": {},
     "output_type": "execute_result"
    }
   ],
   "source": [
    "a[3]"
   ]
  },
  {
   "cell_type": "markdown",
   "metadata": {},
   "source": [
    "numpy-arrays unterscheiden sich in einigen Punkten sehr deutlich von Pythons eingebauter Liste:\n",
    "<ul>\n",
    "<li>numpy Arrays haben bei der Erzeugung eine festgelegte Größe. Verändert man das Array wird eine neue Kopie angelegt und die alte verworfen. </li>\n",
    "<li>Alle Elemente des Arrays müssen denselben Datentyp haben. </li>\n",
    "<li>numpy Arrays sind dazu ausgelegt, mehrdimensional verwendet zu werden:</li>"
   ]
  },
  {
   "cell_type": "code",
   "execution_count": 3,
   "metadata": {
    "collapsed": false
   },
   "outputs": [
    {
     "data": {
      "text/plain": [
       "numpy.ndarray"
      ]
     },
     "execution_count": 3,
     "metadata": {},
     "output_type": "execute_result"
    }
   ],
   "source": [
    "type(a)"
   ]
  },
  {
   "cell_type": "markdown",
   "metadata": {},
   "source": [
    "nd steht für n-dimensional"
   ]
  },
  {
   "cell_type": "code",
   "execution_count": 4,
   "metadata": {
    "collapsed": false
   },
   "outputs": [
    {
     "data": {
      "text/plain": [
       "array([[1, 2, 3],\n",
       "       [4, 5, 6]])"
      ]
     },
     "execution_count": 4,
     "metadata": {},
     "output_type": "execute_result"
    }
   ],
   "source": [
    "#wir erzeugen einen zweidimensionalen Array\n",
    "b = np.array([[1,2,3],[4,5,6]])\n",
    "b"
   ]
  },
  {
   "cell_type": "markdown",
   "metadata": {},
   "source": [
    "Im folgenden werde ich anstatt von 1-dimensionalen Arrays auch von Vektoren sprechen und einen mehrdimensionalen Array als Matrix bezeichnen. Das sind mathematische Konzepte, die später noch ausführlicher erläutert werden. "
   ]
  },
  {
   "cell_type": "markdown",
   "metadata": {},
   "source": [
    "### Erzeugen von numpy-Arrays"
   ]
  },
  {
   "cell_type": "markdown",
   "metadata": {},
   "source": [
    "Es gibt mehrere Wege, wie man numpy-Arrays erzeugen kann:"
   ]
  },
  {
   "cell_type": "markdown",
   "metadata": {},
   "source": [
    "1) Aus einer Python-Datenstruktur, z.B. einer Liste (wie oben) oder einem Tuple:"
   ]
  },
  {
   "cell_type": "code",
   "execution_count": 5,
   "metadata": {
    "collapsed": false
   },
   "outputs": [
    {
     "data": {
      "text/plain": [
       "array([ 1.  ,  3.  ,  6.  ,  7.1 ,  8.55,  2.94])"
      ]
     },
     "execution_count": 5,
     "metadata": {},
     "output_type": "execute_result"
    }
   ],
   "source": [
    "x = np.array((1, 3, 6, 7.1, 8.55, 2.94))\n",
    "x"
   ]
  },
  {
   "cell_type": "markdown",
   "metadata": {},
   "source": [
    "2) Von einer Datei lesen, z.B. im HDF5 or FITS-format oder von csv-Dateien, deren Lesen von Pythons Standardbibliothek unterstützt wird, "
   ]
  },
  {
   "cell_type": "code",
   "execution_count": 6,
   "metadata": {
    "collapsed": false
   },
   "outputs": [
    {
     "name": "stdout",
     "output_type": "stream",
     "text": [
      "['Alter', '2008', '2010', '2011', '2012', '2013']\n",
      "['10-15', '93', '96', '96', '97', '98']\n",
      "['16-24', '96', '98', '99', '99', '99']\n",
      "['25-44', '90', '95', '96', '98', '98']\n",
      "['45-64', '67', '71', '75', '82', '84']\n",
      "['65+', '14', '23', '22', '26', '32']\n"
     ]
    }
   ],
   "source": [
    "#schauen wir uns die Datei einmal mit Python's Bordmitteln an:\n",
    "import csv\n",
    "with open('inutzung.csv') as f:\n",
    "    reader = csv.reader(f)\n",
    "    for l in reader:\n",
    "        print(l)"
   ]
  },
  {
   "cell_type": "code",
   "execution_count": 7,
   "metadata": {
    "collapsed": false
   },
   "outputs": [
    {
     "data": {
      "text/plain": [
       "array([[ 93.,  96.,  96.,  97.,  98.],\n",
       "       [ 96.,  98.,  99.,  99.,  99.],\n",
       "       [ 90.,  95.,  96.,  98.,  98.],\n",
       "       [ 67.,  71.,  75.,  82.,  84.],\n",
       "       [ 14.,  23.,  22.,  26.,  32.]])"
      ]
     },
     "execution_count": 7,
     "metadata": {},
     "output_type": "execute_result"
    }
   ],
   "source": [
    "#und so laden wir sie in numpy:\n",
    "data = np.genfromtxt(\"inutzung.csv\", delimiter=\",\", skiprows=1, usecols=(range(1,6)))\n",
    "data"
   ]
  },
  {
   "cell_type": "markdown",
   "metadata": {},
   "source": [
    "Die Parameter:<br/>\n",
    "delimiter - Welches Zeichen trennt die Felder einer Reihe in der csv-Datei<br/>\n",
    "skiprows  - Welche Zeilen übersprungen werden sollen, falls die Datei wie hier Kolumnentitel enthält<br/>\n",
    "usecols  -  Welche Spalten sollen verwendet werden. Kann man weglassen, wenn alles geladen werden soll. Hier können wir die erste nicht gebrauchen.<br/>"
   ]
  },
  {
   "cell_type": "markdown",
   "metadata": {},
   "source": [
    "### Gestalt eines Arrays"
   ]
  },
  {
   "cell_type": "markdown",
   "metadata": {},
   "source": [
    "Ein Array hat soviele Achsen wie er Dimensionen hat. Bei manchen Operationen werden wir die Information, welche Achse nun behandelt werden soll, angeben müssen. Hier das Beispiel eines zweidimensionalen Arrays:\n",
    "<img src=\"/files/images/numpy_array.png\" width=300>"
   ]
  },
  {
   "cell_type": "markdown",
   "metadata": {},
   "source": [
    "Unter 'Form' der Matrix versteht man die Anzahl der Zellen in die jeweilige Richtung der Achse. Die Form kann man mit dem Befehl shape abfragen:"
   ]
  },
  {
   "cell_type": "code",
   "execution_count": 89,
   "metadata": {
    "collapsed": false
   },
   "outputs": [
    {
     "data": {
      "text/plain": [
       "[6, 6, 6, 6]"
      ]
     },
     "execution_count": 89,
     "metadata": {},
     "output_type": "execute_result"
    }
   ],
   "source": [
    "a"
   ]
  },
  {
   "cell_type": "code",
   "execution_count": 93,
   "metadata": {
    "collapsed": false
   },
   "outputs": [
    {
     "data": {
      "text/plain": [
       "(4,)"
      ]
     },
     "execution_count": 93,
     "metadata": {},
     "output_type": "execute_result"
    }
   ],
   "source": [
    "np.shape(a)"
   ]
  },
  {
   "cell_type": "code",
   "execution_count": 108,
   "metadata": {
    "collapsed": false
   },
   "outputs": [],
   "source": [
    "b = np.array([[38,19,35,32, 41], [39,22,22,33,34], [28,34,28,17,45], [12,23,49,13,22]])"
   ]
  },
  {
   "cell_type": "code",
   "execution_count": 109,
   "metadata": {
    "collapsed": false
   },
   "outputs": [
    {
     "data": {
      "text/plain": [
       "array([[38, 19, 35, 32, 41],\n",
       "       [39, 22, 22, 33, 34],\n",
       "       [28, 34, 28, 17, 45],\n",
       "       [12, 23, 49, 13, 22]])"
      ]
     },
     "execution_count": 109,
     "metadata": {},
     "output_type": "execute_result"
    }
   ],
   "source": [
    "b"
   ]
  },
  {
   "cell_type": "code",
   "execution_count": 94,
   "metadata": {
    "collapsed": false
   },
   "outputs": [
    {
     "data": {
      "text/plain": [
       "(4, 5)"
      ]
     },
     "execution_count": 94,
     "metadata": {},
     "output_type": "execute_result"
    }
   ],
   "source": [
    "np.shape(b)"
   ]
  },
  {
   "cell_type": "markdown",
   "metadata": {},
   "source": [
    "Bei einem Vektor erhalten wir nur eine Zahl, die die Länge des Vektors anzeigt. Im Fall einer Matrix erhalten wir n Zahlen, wobei n der Anzahl der Dimensionen der Matrix entspricht."
   ]
  },
  {
   "cell_type": "markdown",
   "metadata": {},
   "source": [
    "### Aufgaben"
   ]
  },
  {
   "cell_type": "markdown",
   "metadata": {},
   "source": [
    "1) Erzeugen Sie einen Vektor mit den Zahlen von 0-5 und fragen Sie seine Form ab.<br/>\n",
    "2) Erzeugen Sie einen numpy-Array, der mit den Zahlen von 1-12 gefüllt ist und die Form 4x3 hat."
   ]
  },
  {
   "cell_type": "markdown",
   "metadata": {},
   "source": [
    "### Indexing und Slicing"
   ]
  },
  {
   "cell_type": "markdown",
   "metadata": {},
   "source": [
    "Wir können jedes Element eines numpy-Arrays ebenso adressieren wie bei einer python-Liste:"
   ]
  },
  {
   "cell_type": "code",
   "execution_count": 8,
   "metadata": {
    "collapsed": false
   },
   "outputs": [
    {
     "data": {
      "text/plain": [
       "1"
      ]
     },
     "execution_count": 8,
     "metadata": {},
     "output_type": "execute_result"
    }
   ],
   "source": [
    "a = np.array([1,2,3,4,5,6,7,8,9])\n",
    "a[0]"
   ]
  },
  {
   "cell_type": "markdown",
   "metadata": {},
   "source": [
    "Oder auch  slicen: array[start:stop:step]"
   ]
  },
  {
   "cell_type": "code",
   "execution_count": 9,
   "metadata": {
    "collapsed": false
   },
   "outputs": [
    {
     "data": {
      "text/plain": [
       "array([1, 2, 3])"
      ]
     },
     "execution_count": 9,
     "metadata": {},
     "output_type": "execute_result"
    }
   ],
   "source": [
    "a[:3]"
   ]
  },
  {
   "cell_type": "code",
   "execution_count": 10,
   "metadata": {
    "collapsed": false
   },
   "outputs": [
    {
     "data": {
      "text/plain": [
       "array([2, 4, 6])"
      ]
     },
     "execution_count": 10,
     "metadata": {},
     "output_type": "execute_result"
    }
   ],
   "source": [
    "a[1:7:2]"
   ]
  },
  {
   "cell_type": "markdown",
   "metadata": {},
   "source": [
    "Im Fall von zweidimensionalen Arrays funktioniert das ganz genau so: array[start:stop:step,start:stop:step]"
   ]
  },
  {
   "cell_type": "code",
   "execution_count": 72,
   "metadata": {
    "collapsed": false
   },
   "outputs": [
    {
     "data": {
      "text/plain": [
       "array([[38, 19, 35, 32, 41],\n",
       "       [39, 22, 22, 33, 34],\n",
       "       [28, 34, 28, 17, 45],\n",
       "       [12, 23, 49, 13, 22]])"
      ]
     },
     "execution_count": 72,
     "metadata": {},
     "output_type": "execute_result"
    }
   ],
   "source": [
    "b = np.array([[38,19,35,32, 41], [39,22,22,33,34], [28,34,28,17,45], [12,23,49,13,22]])\n",
    "b"
   ]
  },
  {
   "cell_type": "markdown",
   "metadata": {},
   "source": [
    "Wir können Zeilen und Spalten aus einem Array herausschneiden. Hier die 2. Reihe:\n",
    "<img src=\"files/images/numpy_row.png\" width=300/>"
   ]
  },
  {
   "cell_type": "code",
   "execution_count": 84,
   "metadata": {
    "collapsed": false
   },
   "outputs": [
    {
     "data": {
      "text/plain": [
       "array([39, 22, 22, 33, 34])"
      ]
     },
     "execution_count": 84,
     "metadata": {},
     "output_type": "execute_result"
    }
   ],
   "source": [
    "#hier kann man den Doppelpunkt auch weglassen\n",
    "b[1,:]"
   ]
  },
  {
   "cell_type": "markdown",
   "metadata": {},
   "source": [
    "Im folgenden Beispiel schneiden wir die 3. Spalte heraus\n",
    "<img src=\"files/images/numpy_column.png\" width=300>"
   ]
  },
  {
   "cell_type": "code",
   "execution_count": 78,
   "metadata": {
    "collapsed": false
   },
   "outputs": [
    {
     "data": {
      "text/plain": [
       "array([35, 22, 28, 49])"
      ]
     },
     "execution_count": 78,
     "metadata": {},
     "output_type": "execute_result"
    }
   ],
   "source": [
    "#der Doppelpunkt ist notwendig - wir wollen ja alle Werte über die Reihen\n",
    "b[:,2]"
   ]
  },
  {
   "cell_type": "markdown",
   "metadata": {},
   "source": [
    "Wir können auf diese Weise offensichtlich auch Reihen und Spalten angeben, um einzelne Werte oder Wertgruppen herauszuschneiden. Im folgenden Beispiel schneiden wir den Wert heraus, der in der Zelle liegt, die durch die 2. Reihe und die 2. Spalte indexiert ist:\n",
    "<img src=\"files/images/numpy_row+columns.png\" width=300>"
   ]
  },
  {
   "cell_type": "code",
   "execution_count": 80,
   "metadata": {
    "collapsed": false
   },
   "outputs": [
    {
     "data": {
      "text/plain": [
       "28"
      ]
     },
     "execution_count": 80,
     "metadata": {},
     "output_type": "execute_result"
    }
   ],
   "source": [
    "b[2,2]"
   ]
  },
  {
   "cell_type": "markdown",
   "metadata": {},
   "source": [
    "### Aufgaben"
   ]
  },
  {
   "cell_type": "markdown",
   "metadata": {},
   "source": [
    "1) Schneiden Sie die erste Reihe heraus<br/>\n",
    "2) Schneiden Sie die letzte Spalte heraus (wie kann man das machen, wenn man die Anzahl der Spalten nicht kennt?<br/>\n",
    "3) Schneiden Sie die Gruppe 17,45,13,22 heraus\n"
   ]
  },
  {
   "cell_type": "markdown",
   "metadata": {},
   "source": [
    "### Exkurs: Arange und reshape"
   ]
  },
  {
   "cell_type": "markdown",
   "metadata": {},
   "source": [
    "Mit dem Befehl np.arange(n) können wir einen Vektor erzeugen, der mit 0 bis n gefüllt wird (Die Befehl funktioniert ähnlich wie range, d.h. man kann Anfangswerte setzen oder auch Schrittweiten."
   ]
  },
  {
   "cell_type": "code",
   "execution_count": 18,
   "metadata": {
    "collapsed": false
   },
   "outputs": [
    {
     "data": {
      "text/plain": [
       "array([ 2,  4,  6,  8, 10, 12, 14, 16, 18, 20])"
      ]
     },
     "execution_count": 18,
     "metadata": {},
     "output_type": "execute_result"
    }
   ],
   "source": [
    "c = np.arange(2,22,2)\n",
    "c"
   ]
  },
  {
   "cell_type": "markdown",
   "metadata": {},
   "source": [
    "Mit der Funktion reshape() können wir einen Vektor oder eine Matrix umformen:"
   ]
  },
  {
   "cell_type": "code",
   "execution_count": 19,
   "metadata": {
    "collapsed": false
   },
   "outputs": [
    {
     "data": {
      "text/plain": [
       "array([[ 2,  4,  6,  8, 10],\n",
       "       [12, 14, 16, 18, 20]])"
      ]
     },
     "execution_count": 19,
     "metadata": {},
     "output_type": "execute_result"
    }
   ],
   "source": [
    "c.reshape(2,5)"
   ]
  },
  {
   "cell_type": "code",
   "execution_count": 20,
   "metadata": {
    "collapsed": false
   },
   "outputs": [
    {
     "data": {
      "text/plain": [
       "array([[ 1,  2,  3,  4],\n",
       "       [ 5,  6,  7,  8],\n",
       "       [ 9, 10, 11, 12]])"
      ]
     },
     "execution_count": 20,
     "metadata": {},
     "output_type": "execute_result"
    }
   ],
   "source": [
    "b"
   ]
  },
  {
   "cell_type": "code",
   "execution_count": 21,
   "metadata": {
    "collapsed": false
   },
   "outputs": [
    {
     "data": {
      "text/plain": [
       "array([[ 1,  2,  3],\n",
       "       [ 4,  5,  6],\n",
       "       [ 7,  8,  9],\n",
       "       [10, 11, 12]])"
      ]
     },
     "execution_count": 21,
     "metadata": {},
     "output_type": "execute_result"
    }
   ],
   "source": [
    "b.reshape(4,3)"
   ]
  },
  {
   "cell_type": "markdown",
   "metadata": {},
   "source": [
    "Das funktioniert nur, wenn die Gesamtlänge der alten Matrix auch genau die neue Matrix ausfüllt - sonst wird eine Exception geworfen."
   ]
  },
  {
   "cell_type": "markdown",
   "metadata": {},
   "source": [
    "### Aufgabe"
   ]
  },
  {
   "cell_type": "markdown",
   "metadata": {},
   "source": [
    "1) Legen Sie mit np.arange(start, stop[, step]) ein 1-dimensionales Array mit den Zahlen von 200 bis 1000 an.<br/>\n",
    "2)Verfünffachen Sie alle Werte des Arrays. <br/>\n",
    "3) Erzeugen Sie einen Vektor mit der Größe 100, der ungerade Zahlen beginnend bei 11 enthält.<br/>\n",
    "4) Geben Sie die letzte Zahl des Vektors aus.<br/>\n",
    "5) Erzeugen Sie eine Matrix der Form 40x 25 mit den Zahlen von 0-999 als Inhalt. <br/>\n",
    "6) Lassen Sie sich die erste Zeile der Matrix anzeigen.<br/>\n",
    "7) Geben die drei Spalten aus, die die Zahlen 150,151,152 enthalten - von Anfang an.  <br/>"
   ]
  },
  {
   "cell_type": "markdown",
   "metadata": {},
   "source": [
    "### Broadcasting"
   ]
  },
  {
   "cell_type": "markdown",
   "metadata": {},
   "source": [
    "Ein weiterer Unterschied zwischen Python-Listen und numpy Arrays besteht darin, dass Arrays - im Gegensatz zu Python Listen - Vektorisierung und Broadcasting unterstützen. Will man z.B. zwei Python-Listen einfach multiplizieren, so könnte man versucht sein, folgendes zu schreiben: "
   ]
  },
  {
   "cell_type": "code",
   "execution_count": 111,
   "metadata": {
    "collapsed": false
   },
   "outputs": [],
   "source": [
    "a = [1,2,3]\n",
    "b = [4,5,6]\n",
    "#a * b"
   ]
  },
  {
   "cell_type": "markdown",
   "metadata": {},
   "source": [
    "Genau das aber kann man mit numpy Arrays machen:"
   ]
  },
  {
   "cell_type": "code",
   "execution_count": 23,
   "metadata": {
    "collapsed": false
   },
   "outputs": [
    {
     "data": {
      "text/plain": [
       "array([ 4, 10, 18])"
      ]
     },
     "execution_count": 23,
     "metadata": {},
     "output_type": "execute_result"
    }
   ],
   "source": [
    "a = np.array([1,2,3])\n",
    "b = np.array([4,5,6])\n",
    "a * b"
   ]
  },
  {
   "cell_type": "markdown",
   "metadata": {},
   "source": [
    "Die Arrays werden elementweise multipliziert. Arrays verhalten sich also wie mathematische Vektoren.  "
   ]
  },
  {
   "cell_type": "markdown",
   "metadata": {},
   "source": [
    "Wir können in Python zwar eine Liste mit einer Zahl multiplizieren, aber was dann passiert, ist folgendes: die Liste wird entsprechend oft wiederholt \n"
   ]
  },
  {
   "cell_type": "code",
   "execution_count": 24,
   "metadata": {
    "collapsed": false
   },
   "outputs": [
    {
     "data": {
      "text/plain": [
       "array([3, 6, 9])"
      ]
     },
     "execution_count": 24,
     "metadata": {},
     "output_type": "execute_result"
    }
   ],
   "source": [
    "c = 3\n",
    "a * c"
   ]
  },
  {
   "cell_type": "markdown",
   "metadata": {},
   "source": [
    "Multipliziert man einen Vektor mit einem Skalar (also einer einzelnen Zahl), dann wird jeder Wert des Vektors multipliziert:"
   ]
  },
  {
   "cell_type": "code",
   "execution_count": 25,
   "metadata": {
    "collapsed": false
   },
   "outputs": [
    {
     "data": {
      "text/plain": [
       "array([3, 6, 9])"
      ]
     },
     "execution_count": 25,
     "metadata": {},
     "output_type": "execute_result"
    }
   ],
   "source": [
    "b = np.array([3])\n",
    "a * b"
   ]
  },
  {
   "cell_type": "markdown",
   "metadata": {},
   "source": [
    "Unter Broadcasting versteht man generell das Verhalten aller Operationen, die stets elementweise angewandt werden. "
   ]
  },
  {
   "cell_type": "code",
   "execution_count": 26,
   "metadata": {
    "collapsed": false
   },
   "outputs": [
    {
     "data": {
      "text/plain": [
       "array([[ 0,  1,  2],\n",
       "       [ 3,  4,  5],\n",
       "       [ 6,  7,  8],\n",
       "       [ 9, 10, 11],\n",
       "       [12, 13, 14],\n",
       "       [15, 16, 17],\n",
       "       [18, 19, 20]])"
      ]
     },
     "execution_count": 26,
     "metadata": {},
     "output_type": "execute_result"
    }
   ],
   "source": [
    "#wir erzeugen eine Matrix\n",
    "d = np.arange(0,21).reshape(7,3)\n",
    "d"
   ]
  },
  {
   "cell_type": "code",
   "execution_count": 27,
   "metadata": {
    "collapsed": false
   },
   "outputs": [
    {
     "data": {
      "text/plain": [
       "array([[  0,   5,  10],\n",
       "       [ 15,  20,  25],\n",
       "       [ 30,  35,  40],\n",
       "       [ 45,  50,  55],\n",
       "       [ 60,  65,  70],\n",
       "       [ 75,  80,  85],\n",
       "       [ 90,  95, 100]])"
      ]
     },
     "execution_count": 27,
     "metadata": {},
     "output_type": "execute_result"
    }
   ],
   "source": [
    "#wir können nun mit einem Befehl alle Elemente der Matrix verändern, z.B.:\n",
    "d * 5"
   ]
  },
  {
   "cell_type": "code",
   "execution_count": 28,
   "metadata": {
    "collapsed": false
   },
   "outputs": [
    {
     "data": {
      "text/plain": [
       "210"
      ]
     },
     "execution_count": 28,
     "metadata": {},
     "output_type": "execute_result"
    }
   ],
   "source": [
    "#führen wir noch eine einfache Funktion ein:\n",
    "d.sum()"
   ]
  },
  {
   "cell_type": "markdown",
   "metadata": {},
   "source": [
    "Wenn man Rohwerte einer Erhebung in einer Tabelle hat, dann besteht der erste Schritt oft darin, diese zu normalisieren. Nehmen wir an, die Werte oben stellen insgesamt die Anzahl der Worte in einem Text dar, dann würden wir die Werte so normalisieren, dass wir ausrechnen, wieviel Prozent Anteil das jeweilige Wort an der Gesamtheit hat.   "
   ]
  },
  {
   "cell_type": "code",
   "execution_count": 29,
   "metadata": {
    "collapsed": false
   },
   "outputs": [
    {
     "data": {
      "text/plain": [
       "1.0"
      ]
     },
     "execution_count": 29,
     "metadata": {},
     "output_type": "execute_result"
    }
   ],
   "source": [
    "dsum = d / d.sum()\n",
    "#test! :-)\n",
    "dsum.sum()"
   ]
  },
  {
   "cell_type": "markdown",
   "metadata": {},
   "source": [
    "Man kann auch zwei Matrizen broadcasten, z.B.:"
   ]
  },
  {
   "cell_type": "code",
   "execution_count": 30,
   "metadata": {
    "collapsed": false
   },
   "outputs": [
    {
     "data": {
      "text/plain": [
       "array([[ 7, 16, 27],\n",
       "       [28, 40, 54]])"
      ]
     },
     "execution_count": 30,
     "metadata": {},
     "output_type": "execute_result"
    }
   ],
   "source": [
    "a = np.array([[1,2,3],[4,5,6]])\n",
    "b = np.array([7,8,9])\n",
    "a * b"
   ]
  },
  {
   "cell_type": "markdown",
   "metadata": {},
   "source": [
    "Dabei muss man allerdings beachten, dass die Länge der Dimension, immer gleich sind oder 1. Wenn eine der Dimensionen die Länge 1 hat und sie trifft auf eine längere, dann wird sie auf deren Länge erweitert. "
   ]
  },
  {
   "cell_type": "code",
   "execution_count": 31,
   "metadata": {
    "collapsed": false
   },
   "outputs": [],
   "source": [
    "a = np.array([[1,2,3],[4,5,6]])\n",
    "b = np.array([7,8,9,10])"
   ]
  },
  {
   "cell_type": "code",
   "execution_count": 32,
   "metadata": {
    "collapsed": false
   },
   "outputs": [
    {
     "ename": "ValueError",
     "evalue": "operands could not be broadcast together with shapes (2,3) (4,) ",
     "output_type": "error",
     "traceback": [
      "\u001b[1;31m---------------------------------------------------------------------------\u001b[0m\n\u001b[1;31mValueError\u001b[0m                                Traceback (most recent call last)",
      "\u001b[1;32m<ipython-input-32-f39f92199807>\u001b[0m in \u001b[0;36m<module>\u001b[1;34m()\u001b[0m\n\u001b[0;32m      1\u001b[0m \u001b[1;31m#erzeugt einen Fehler\u001b[0m\u001b[1;33m\u001b[0m\u001b[1;33m\u001b[0m\u001b[0m\n\u001b[1;32m----> 2\u001b[1;33m \u001b[0ma\u001b[0m \u001b[1;33m*\u001b[0m \u001b[0mb\u001b[0m\u001b[1;33m\u001b[0m\u001b[0m\n\u001b[0m",
      "\u001b[1;31mValueError\u001b[0m: operands could not be broadcast together with shapes (2,3) (4,) "
     ]
    }
   ],
   "source": [
    "#erzeugt einen Fehler\n",
    "#a * b"
   ]
  },
  {
   "cell_type": "code",
   "execution_count": 33,
   "metadata": {
    "collapsed": false
   },
   "outputs": [
    {
     "data": {
      "text/plain": [
       "array([[0, 1, 2]])"
      ]
     },
     "execution_count": 33,
     "metadata": {},
     "output_type": "execute_result"
    }
   ],
   "source": [
    "b = np.arange(3).reshape(1, 3)\n",
    "b"
   ]
  },
  {
   "cell_type": "code",
   "execution_count": 34,
   "metadata": {
    "collapsed": false
   },
   "outputs": [
    {
     "data": {
      "text/plain": [
       "array([[ 0,  2,  6],\n",
       "       [ 0,  5, 12]])"
      ]
     },
     "execution_count": 34,
     "metadata": {},
     "output_type": "execute_result"
    }
   ],
   "source": [
    "a * b"
   ]
  },
  {
   "cell_type": "markdown",
   "metadata": {},
   "source": [
    "Das ist alles andere als einfach zu verstehen. Siehe \"General Broadcasting Rules\" im numpy-Handbuch. "
   ]
  },
  {
   "cell_type": "markdown",
   "metadata": {},
   "source": [
    "### Aufgaben"
   ]
  },
  {
   "cell_type": "markdown",
   "metadata": {},
   "source": [
    "1) Erzeugen Sie einen Array mit der Form 4 x 5, der mit den Zahlen der 4er Reihe (4,8,12 usw.) gefüllt ist. Normalisieren Sie die Daten, indem Sie sie durch die Summe teilen. <br/>\n",
    "2) Finden Sie den höchsten Wert der Matrix und jeder Reihe."
   ]
  },
  {
   "cell_type": "markdown",
   "metadata": {},
   "source": [
    "### Datentypen in Numpy Arrays"
   ]
  },
  {
   "cell_type": "markdown",
   "metadata": {},
   "source": [
    "Numpy Arrays bestehen, wie oben erwähnt, aus Daten mit dem gleichen Datentypen. Arrays mit mehreren Datentypen nennt man strukturierte Arrays oder Records (s.u.). Man kann den Datentypen auch explizit angeben, (mit den bekannten Nebeneffekten):"
   ]
  },
  {
   "cell_type": "code",
   "execution_count": 35,
   "metadata": {
    "collapsed": false
   },
   "outputs": [],
   "source": [
    "c = np.array([1.2,2.3,3.4], dtype=int)"
   ]
  },
  {
   "cell_type": "code",
   "execution_count": 36,
   "metadata": {
    "collapsed": false
   },
   "outputs": [
    {
     "data": {
      "text/plain": [
       "array([1, 2, 3])"
      ]
     },
     "execution_count": 36,
     "metadata": {},
     "output_type": "execute_result"
    }
   ],
   "source": [
    "c"
   ]
  },
  {
   "cell_type": "code",
   "execution_count": 37,
   "metadata": {
    "collapsed": false
   },
   "outputs": [
    {
     "data": {
      "text/plain": [
       "dtype('int32')"
      ]
     },
     "execution_count": 37,
     "metadata": {},
     "output_type": "execute_result"
    }
   ],
   "source": [
    "c.dtype"
   ]
  },
  {
   "cell_type": "code",
   "execution_count": 38,
   "metadata": {
    "collapsed": false
   },
   "outputs": [
    {
     "data": {
      "text/plain": [
       "dtype('float64')"
      ]
     },
     "execution_count": 38,
     "metadata": {},
     "output_type": "execute_result"
    }
   ],
   "source": [
    "c = np.array([1.2,2.3,3.4])\n",
    "c.dtype"
   ]
  },
  {
   "cell_type": "markdown",
   "metadata": {},
   "source": [
    "Außerdem gibt es noch: bool (für Wahrheitswerte), complex (für komplexe Zahlen) u.a.m."
   ]
  },
  {
   "cell_type": "markdown",
   "metadata": {},
   "source": [
    "3) Legen Sie ein Array mit den graden Zahlen von 1-10 an. Teilen Sie alle Werte durch 3 und legen das Ergebnis in einem neuen Array an"
   ]
  },
  {
   "cell_type": "markdown",
   "metadata": {},
   "source": [
    "### Structured Arrays / Records"
   ]
  },
  {
   "cell_type": "markdown",
   "metadata": {},
   "source": [
    "Numpy unterstützt auch strukturierte Arrays, die es erlauben Spalten- und Zeilentitel zu behalten. Wir werden für diese Daten vor allem pandas verwenden. "
   ]
  },
  {
   "cell_type": "markdown",
   "metadata": {},
   "source": [
    "### NA"
   ]
  },
  {
   "cell_type": "markdown",
   "metadata": {},
   "source": [
    "Wirkliche Daten sind oft schmutzig und nicht durchgehend einheitlich. "
   ]
  },
  {
   "cell_type": "markdown",
   "metadata": {},
   "source": [
    "Der Inhalt der Datei missing.csv sieht so aus:\n",
    "<table>\n",
    "<tr><td>12</td>\t<td>3</td>\t<td>10</td>\t<td>6\t</td></tr>\n",
    "<tr><td>10</td>\t<td>n/a</td>\t<td>12</td>\t<td>8</td></tr>\n",
    "<tr><td></td>\t<td>7</td>\t<td>10</td>\t<td>9</td></tr>\n",
    "<tr><td>11</td>\t<td>9</td>\t<td>12</td>\t<td>4</td></tr>\n",
    "</table>\n",
    "In der zweitn Zeile ist anstelle eines Wertes n/a notiert; in der dritten Zeile fehlt der erste Wert ganz. Wenn man solche Dateien einfach so importiert, wird der fehlende und der falsche Wert als nan (not a number) notiert. (Wenn überhaupt kein Wert in der Datei steht, also auch keine leeren Anführungszeichen, dann wirft die Funktion übrigens eine Exception):"
   ]
  },
  {
   "cell_type": "code",
   "execution_count": 40,
   "metadata": {
    "collapsed": false
   },
   "outputs": [],
   "source": [
    "data = np.genfromtxt(\"missing.csv\")"
   ]
  },
  {
   "cell_type": "code",
   "execution_count": 41,
   "metadata": {
    "collapsed": false
   },
   "outputs": [
    {
     "data": {
      "text/plain": [
       "array([[ 12.,   3.,  10.,   6.],\n",
       "       [ 10.,  nan,  12.,   8.],\n",
       "       [ nan,   7.,  10.,   9.],\n",
       "       [ 11.,   9.,  12.,   4.]])"
      ]
     },
     "execution_count": 41,
     "metadata": {},
     "output_type": "execute_result"
    }
   ],
   "source": [
    "data"
   ]
  },
  {
   "cell_type": "code",
   "execution_count": 113,
   "metadata": {
    "collapsed": false
   },
   "outputs": [
    {
     "data": {
      "text/plain": [
       "array([[ 12.,   3.,  10.,   6.],\n",
       "       [ 10.,  nan,  12.,   8.],\n",
       "       [ nan,   7.,  10.,   9.],\n",
       "       [ 11.,   9.,  12.,   4.]])"
      ]
     },
     "execution_count": 113,
     "metadata": {},
     "output_type": "execute_result"
    }
   ],
   "source": [
    "data = np.genfromtxt(\"missing.csv\", filling_values=0)\n",
    "data"
   ]
  },
  {
   "cell_type": "markdown",
   "metadata": {},
   "source": [
    "Arrays mit nan oder anderen ungültigen Werten verhalten sich nicht wie gewohnt: "
   ]
  },
  {
   "cell_type": "code",
   "execution_count": 44,
   "metadata": {
    "collapsed": false
   },
   "outputs": [
    {
     "data": {
      "text/plain": [
       "nan"
      ]
     },
     "execution_count": 44,
     "metadata": {},
     "output_type": "execute_result"
    }
   ],
   "source": [
    "data.sum()"
   ]
  },
  {
   "cell_type": "code",
   "execution_count": 45,
   "metadata": {
    "collapsed": false
   },
   "outputs": [
    {
     "name": "stdout",
     "output_type": "stream",
     "text": [
      "31.0\n",
      "nan\n",
      "nan\n",
      "36.0\n"
     ]
    }
   ],
   "source": [
    "for i in data:\n",
    "    print(i.sum())"
   ]
  },
  {
   "cell_type": "markdown",
   "metadata": {},
   "source": [
    "Um mit solchen Daten umzugehen, muss man ein Array maskieren. Das Bild entsteht daruch, dass man über alle Werte eine Maske legt, die an einigen Stellen die (unbrauchbaren) Werte so einkleidet, dass man trotzdem mit dem Array insgesamt rechnen kann: "
   ]
  },
  {
   "cell_type": "code",
   "execution_count": 46,
   "metadata": {
    "collapsed": false
   },
   "outputs": [
    {
     "data": {
      "text/plain": [
       "masked_array(data =\n",
       " [[12.0 3.0 10.0 6.0]\n",
       " [10.0 -- 12.0 8.0]\n",
       " [-- 7.0 10.0 9.0]\n",
       " [11.0 9.0 12.0 4.0]],\n",
       "             mask =\n",
       " [[False False False False]\n",
       " [False  True False False]\n",
       " [ True False False False]\n",
       " [False False False False]],\n",
       "       fill_value = 1e+20)"
      ]
     },
     "execution_count": 46,
     "metadata": {},
     "output_type": "execute_result"
    }
   ],
   "source": [
    "import numpy.ma as ma\n",
    "masked_data = ma.fix_invalid(data)\n",
    "masked_data"
   ]
  },
  {
   "cell_type": "markdown",
   "metadata": {},
   "source": [
    "Die Maske hat an den Stellen den Wahrheitswert True, wo der darunterliegende Wert die normalen Array-Operationen stören würde. Man kann übrigens, wenn man will, selbst entscheiden, wie die Maske aussieht. Siehe im numpy-Handbuch den Abschnitt 3.19 masked array operations. "
   ]
  },
  {
   "cell_type": "code",
   "execution_count": 47,
   "metadata": {
    "collapsed": false
   },
   "outputs": [
    {
     "data": {
      "text/plain": [
       "123.0"
      ]
     },
     "execution_count": 47,
     "metadata": {},
     "output_type": "execute_result"
    }
   ],
   "source": [
    "masked_data.sum()"
   ]
  },
  {
   "cell_type": "code",
   "execution_count": 48,
   "metadata": {
    "collapsed": false
   },
   "outputs": [
    {
     "name": "stdout",
     "output_type": "stream",
     "text": [
      "31.0\n",
      "30.0\n",
      "26.0\n",
      "36.0\n"
     ]
    }
   ],
   "source": [
    "for i in masked_data:\n",
    "    print(i.sum())"
   ]
  },
  {
   "cell_type": "markdown",
   "metadata": {},
   "source": [
    "### Aufgabe"
   ]
  },
  {
   "cell_type": "markdown",
   "metadata": {},
   "source": [
    "1) Laden Sie die Daten aus der Datei missing.csv, maskieren Sie ungültige Werte und berechnen Sie die Summe der Zeilen."
   ]
  },
  {
   "cell_type": "markdown",
   "metadata": {},
   "source": [
    "### Funktionales Programmieren mit Arrays"
   ]
  },
  {
   "cell_type": "markdown",
   "metadata": {},
   "source": [
    "numpy bietet eine große Menge an Funktionen, die man mittels broadcasting auf Arrays anwenden lassen kann. Man kann aber auch in vergleichbarer Weise bzw. in einer Art, die an die Verwendung von map im funktionalen Programmieren erinnert, jede selbstgeschriebene Funktion auf numpy-Arrays anwenden. Dazu dient die Funktion np.apply_along_axis().  <br/>\n",
    "np.apply_along_axis(func1d, axis, arr, *args)\n",
    "<br/>Diese Funktion verarbeitet eine Matrix in der Weise, dass in der angegebenen Achse jeweils ein Vektor, also ein 1-dimensionaler Array, herausgeschnitten wird und mit der Funktion verarbeitet wird, d.h. die Funktion sollte als Input einen Vektor erwarten."
   ]
  },
  {
   "cell_type": "code",
   "execution_count": 55,
   "metadata": {
    "collapsed": false
   },
   "outputs": [
    {
     "name": "stdout",
     "output_type": "stream",
     "text": [
      "[[1 4 2 7 5]\n",
      " [3 1 4 6 3]\n",
      " [6 1 4 2 4]]\n"
     ]
    },
    {
     "data": {
      "text/plain": [
       "array([ 3.33333333,  2.        ,  3.33333333,  5.        ,  4.        ])"
      ]
     },
     "execution_count": 55,
     "metadata": {},
     "output_type": "execute_result"
    }
   ],
   "source": [
    "def simple_mean(a):\n",
    "    return a.sum() /len(a)\n",
    "\n",
    "a = np.array([[1,4,2,7,5], [3,1,4,6,3], [6,1,4,2,4]])\n",
    "print(a)\n",
    "np.apply_along_axis( simple_mean,axis=0,arr=a)  #axis u arr kann man natürlich weglassen, hier zur Erläuterung"
   ]
  },
  {
   "cell_type": "code",
   "execution_count": 56,
   "metadata": {
    "collapsed": false
   },
   "outputs": [
    {
     "data": {
      "text/plain": [
       "array([ 3.8,  3.4,  3.4])"
      ]
     },
     "execution_count": 56,
     "metadata": {},
     "output_type": "execute_result"
    }
   ],
   "source": [
    "#Im folgenden Beispiel wird die Axis auf 1 gesetzt:\n",
    "np.apply_along_axis( simple_mean,axis=1,arr=a)"
   ]
  },
  {
   "cell_type": "code",
   "execution_count": 96,
   "metadata": {
    "collapsed": false
   },
   "outputs": [
    {
     "name": "stdout",
     "output_type": "stream",
     "text": [
      "12\n",
      "6\n"
     ]
    },
    {
     "data": {
      "text/plain": [
       "array(12)"
      ]
     },
     "execution_count": 96,
     "metadata": {},
     "output_type": "execute_result"
    }
   ],
   "source": [
    "#wir können so auch numpy Funktionen auf Arrays anwenden\n",
    "g = np.array([2,12,5,2,4,9])\n",
    "print(np.max(g))\n",
    "print(np.max(a))\n",
    "np.apply_along_axis(np.max,axis=0,arr=g)"
   ]
  },
  {
   "cell_type": "markdown",
   "metadata": {},
   "source": [
    "### Deskriptive Statistik"
   ]
  },
  {
   "cell_type": "markdown",
   "metadata": {},
   "source": [
    "numpy bringt auch von Haus aus eine Reihe von Funktionen für die deskriptive Statistik mit. Ich gehe davon aus, dass die grundlegenden Konzepte noch aus der Schule bekannt sind (sonst bitte: Wikipedia!).  "
   ]
  },
  {
   "cell_type": "markdown",
   "metadata": {},
   "source": [
    "<b>Mittelwert</b> (mean)<br/>\n",
    "Der Mittelwert ist ein Zentralitätsmaß und soll einen Eindruck vermitteln, wo der Mittelpunkt der Datenreihe ist. In der Praxis wichtiger ist der Mittelwert allerdings als Faktor in anderen Maßen, z.B. in der Standardabweichung, oder als Information im Rahmen eines Boxplots. Berechnet wird der Mittelwert folgendermaßen:\n",
    "$$\n",
    "\\mu = \\sum_{i=0}^n \\frac {x_i} {n}\n",
    "$$\n",
    "Wobei: <br/>\n",
    "i - der Indexwert des Datenpunkts ist, x<sub>0</sub> ist also der Wert des ersten Datenpunkts usw.<br/>\n",
    "n - die Anzahl der Datenpunkte"
   ]
  },
  {
   "cell_type": "code",
   "execution_count": 63,
   "metadata": {
    "collapsed": false
   },
   "outputs": [
    {
     "data": {
      "text/plain": [
       "52.285714285714285"
      ]
     },
     "execution_count": 63,
     "metadata": {},
     "output_type": "execute_result"
    }
   ],
   "source": [
    "data = np.array([34, 12, 77, 90, 34, 67, 52])\n",
    "np.mean(data)"
   ]
  },
  {
   "cell_type": "markdown",
   "metadata": {},
   "source": [
    "<b>Varianz</b><br/> \n",
    "Varianz ist ein Streumaß, das uns eine Einschätzung erlaubt, wie sehr die Daten vom Mittelwert abweichen. Offensichtlich haben die Datenreihen [6,6,6,6] und [1,11,2,10] den gleichen Mittelwert, aber eine ganz unterschiedliche Varianz. Berechnet wird die Varianz einer Population folgendermaßen:\n",
    "$$\n",
    "v = \\sum_{i=0}^n \\frac {(\\mu - x_i)^2} {n}\n",
    "$$\n",
    "Die Quadrierung der Werte ist notwendig, um zu vermeiden, dass sich positive und negative Werte gegenseitig aufwiegen. Allerdings erschwert die Quadrierung die Interpretation einer Varianz (Wenn wir die Varianz der Körpergröße gemessen in cm anschauen, dann haben wir einen Wert in Quadratzentimeter vor uns...), außerdem sind die Werte recht groß. "
   ]
  },
  {
   "cell_type": "code",
   "execution_count": 105,
   "metadata": {
    "collapsed": false
   },
   "outputs": [
    {
     "data": {
      "text/plain": [
       "648.7755102040818"
      ]
     },
     "execution_count": 105,
     "metadata": {},
     "output_type": "execute_result"
    }
   ],
   "source": [
    "np.var(data)\n"
   ]
  },
  {
   "cell_type": "code",
   "execution_count": 106,
   "metadata": {
    "collapsed": false
   },
   "outputs": [
    {
     "name": "stdout",
     "output_type": "stream",
     "text": [
      "Mittelwert a:  6.0\n",
      "Mittelwert b:  6.0\n",
      "Varianz a:  0.0\n",
      "Varianz b:  20.5\n"
     ]
    }
   ],
   "source": [
    "a = [6,6,6,6] \n",
    "b = [1,11,2,10]\n",
    "print(\"Mittelwert a: \", np.mean(a))\n",
    "print(\"Mittelwert b: \", np.mean(b))\n",
    "print(\"Varianz a: \", np.var(a))\n",
    "print(\"Varianz b: \", np.var(b))\n"
   ]
  },
  {
   "cell_type": "markdown",
   "metadata": {},
   "source": [
    "<b>Standardabweichung</b> (standard deviation) <br/>\n",
    "Die Standardabweichung ist die Wurzel aus der Varianz, hat also den Vorteil, dass ihre Einheit und Größenverhältnisse intuitiv einsichtig interpretierbar sind. \n",
    "$$\n",
    "\\sigma = \\sqrt{\\sum_{i=0}^n \\frac {(\\mu - x_i)^2} {n}}\n",
    "$$"
   ]
  },
  {
   "cell_type": "code",
   "execution_count": 99,
   "metadata": {
    "collapsed": false
   },
   "outputs": [
    {
     "data": {
      "text/plain": [
       "25.471072026989397"
      ]
     },
     "execution_count": 99,
     "metadata": {},
     "output_type": "execute_result"
    }
   ],
   "source": [
    "np.std(data)"
   ]
  },
  {
   "cell_type": "code",
   "execution_count": 71,
   "metadata": {
    "collapsed": false
   },
   "outputs": [
    {
     "name": "stdout",
     "output_type": "stream",
     "text": [
      "Mittelwert a und b:  6.0\n",
      "Standardabweichung a:  0.0\n",
      "Standardabweichung b:  4.52769256907\n"
     ]
    }
   ],
   "source": [
    "print(\"Mittelwert a und b: \", np.mean(a))\n",
    "print(\"Standardabweichung a: \", np.std(a))\n",
    "print(\"Standardabweichung b: \", np.std(b))\n"
   ]
  },
  {
   "cell_type": "markdown",
   "metadata": {},
   "source": [
    "Highlights, die wir nicht behandelt haben: Finanzfunktionen, Lineare Algebra, Diskrete Fourier Transformationen u.a.m."
   ]
  },
  {
   "cell_type": "markdown",
   "metadata": {},
   "source": [
    "### Aufgaben"
   ]
  },
  {
   "cell_type": "markdown",
   "metadata": {},
   "source": [
    "1) Gegeben ist der Array [[38,19,35,32, 41], [39,22,22,33,34], [28,34,28,17,45], [12,23,49,13,22]]. Berechnen Sie den Mittelwert aller Zahlen sowie der Spalten und der Zeilen."
   ]
  },
  {
   "cell_type": "markdown",
   "metadata": {},
   "source": [
    "### Hausaufgaben"
   ]
  },
  {
   "cell_type": "markdown",
   "metadata": {},
   "source": [
    "1) Erzeugen Sie eine Worthäufigkeitsmatrix für die 30 häufigsten Worte aus Goethes Wahlverwandtschaften, Fontanes Effi Briest, Raabes Stopfkuchen und Kafkas Der Prozeß (alle Texte finden Sie auf Textgrid - textgridrep.de). Normalisieren Sie die Matrix. Berechnen Sie den Mittelwert für jedes Wort. "
   ]
  },
  {
   "cell_type": "markdown",
   "metadata": {},
   "source": [
    "### Weiterführende Literatur"
   ]
  },
  {
   "cell_type": "markdown",
   "metadata": {},
   "source": [
    "<ul>\n",
    "<li><a href=\"http://www.dyinglovegrape.com/data_analysis/DA.php\">Data Analysis for Novice Programmers</a></li>\n",
    "<li><a href=\"http://www.sam.math.ethz.ch/~raoulb/teaching/PythonTutorial/intro_numpy.html\">SAM's scientific Python Tools</a> </li>\n",
    "</ul>"
   ]
  },
  {
   "cell_type": "code",
   "execution_count": null,
   "metadata": {
    "collapsed": true
   },
   "outputs": [],
   "source": []
  }
 ],
 "metadata": {
  "kernelspec": {
   "display_name": "Python 3",
   "language": "python",
   "name": "python3"
  },
  "language_info": {
   "codemirror_mode": {
    "name": "ipython",
    "version": 3
   },
   "file_extension": ".py",
   "mimetype": "text/x-python",
   "name": "python",
   "nbconvert_exporter": "python",
   "pygments_lexer": "ipython3",
   "version": "3.4.4"
  }
 },
 "nbformat": 4,
 "nbformat_minor": 0
}
