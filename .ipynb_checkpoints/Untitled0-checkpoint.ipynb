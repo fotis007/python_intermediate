{
 "metadata": {
  "name": "",
  "signature": "sha256:57ad3b97ed29792008a8963a098eca563f86aa0ea2d959eeb2aa6f2c24f668b1"
 },
 "nbformat": 3,
 "nbformat_minor": 0,
 "worksheets": []
}